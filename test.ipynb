{
 "cells": [
  {
   "cell_type": "markdown",
   "metadata": {},
   "source": [
    "Тестовое задание\n",
    "================"
   ]
  },
  {
   "cell_type": "markdown",
   "metadata": {},
   "source": [
    "## SQL\n",
    "\n",
    "В *SQLite* файле `issues.db` находится таблица `history`.\n",
    "\n",
    "Таблица содержит следующие колонки:\n",
    "* `issue_key` – уникальный ключ задачи\n",
    "* `status` – статус задачи\n",
    "* `minutes_in_status` – количество минут, которое задача находилась в статусе\n",
    "* `previous_status` – предыдущий статус задачи\n",
    "* `status_begin` – время перехода задачи в текущий статус\n",
    "* `status_end` – время окончания нахождения задачи в текущем статусе\n",
    "\n",
    "Время `status_begin` и `ended_at` указаны в формате unix epoch в *миллисекундах*."
   ]
  },
  {
   "cell_type": "markdown",
   "metadata": {},
   "source": [
    "Импортируем необходимые библиотеки."
   ]
  },
  {
   "cell_type": "code",
   "execution_count": 172,
   "metadata": {},
   "outputs": [],
   "source": [
    "import sqlite3\n",
    "import pandas as pd\n",
    "import seaborn as sns\n",
    "import matplotlib.pyplot as plt"
   ]
  },
  {
   "cell_type": "markdown",
   "metadata": {},
   "source": [
    "Создаем соединение с БД (файл с БД находится в папке с исполняемым .ipynb файлом)."
   ]
  },
  {
   "cell_type": "code",
   "execution_count": 173,
   "metadata": {},
   "outputs": [],
   "source": [
    "con = sqlite3.connect('issues.db')"
   ]
  },
  {
   "cell_type": "markdown",
   "metadata": {},
   "source": [
    "Тестовый запрос (проверка соединения и генерации датафрейма)."
   ]
  },
  {
   "cell_type": "code",
   "execution_count": 174,
   "metadata": {},
   "outputs": [
    {
     "data": {
      "text/html": [
       "<div>\n",
       "<style scoped>\n",
       "    .dataframe tbody tr th:only-of-type {\n",
       "        vertical-align: middle;\n",
       "    }\n",
       "\n",
       "    .dataframe tbody tr th {\n",
       "        vertical-align: top;\n",
       "    }\n",
       "\n",
       "    .dataframe thead th {\n",
       "        text-align: right;\n",
       "    }\n",
       "</style>\n",
       "<table border=\"1\" class=\"dataframe\">\n",
       "  <thead>\n",
       "    <tr style=\"text-align: right;\">\n",
       "      <th></th>\n",
       "      <th>issue_key</th>\n",
       "      <th>status</th>\n",
       "      <th>minutes_in_status</th>\n",
       "      <th>previous_status</th>\n",
       "      <th>status_begin</th>\n",
       "      <th>status_end</th>\n",
       "    </tr>\n",
       "  </thead>\n",
       "  <tbody>\n",
       "    <tr>\n",
       "      <th>0</th>\n",
       "      <td>C-40460</td>\n",
       "      <td>Open</td>\n",
       "      <td>113.0</td>\n",
       "      <td>None</td>\n",
       "      <td>1669363867000</td>\n",
       "      <td>1.669371e+12</td>\n",
       "    </tr>\n",
       "    <tr>\n",
       "      <th>1</th>\n",
       "      <td>C-40460</td>\n",
       "      <td>In Progress</td>\n",
       "      <td>6289.0</td>\n",
       "      <td>Open</td>\n",
       "      <td>1669370640119</td>\n",
       "      <td>1.669748e+12</td>\n",
       "    </tr>\n",
       "    <tr>\n",
       "      <th>2</th>\n",
       "      <td>C-40460</td>\n",
       "      <td>In Review</td>\n",
       "      <td>2484.0</td>\n",
       "      <td>In Progress</td>\n",
       "      <td>1669747964986</td>\n",
       "      <td>1.669897e+12</td>\n",
       "    </tr>\n",
       "    <tr>\n",
       "      <th>3</th>\n",
       "      <td>B-7067</td>\n",
       "      <td>Closed</td>\n",
       "      <td>NaN</td>\n",
       "      <td>Test</td>\n",
       "      <td>1668583633246</td>\n",
       "      <td>NaN</td>\n",
       "    </tr>\n",
       "    <tr>\n",
       "      <th>4</th>\n",
       "      <td>B-6168</td>\n",
       "      <td>In Progress</td>\n",
       "      <td>187.0</td>\n",
       "      <td>Open</td>\n",
       "      <td>1655891591619</td>\n",
       "      <td>1.655903e+12</td>\n",
       "    </tr>\n",
       "    <tr>\n",
       "      <th>5</th>\n",
       "      <td>B-4801</td>\n",
       "      <td>In Progress</td>\n",
       "      <td>1.0</td>\n",
       "      <td>Open</td>\n",
       "      <td>1650636048496</td>\n",
       "      <td>1.650636e+12</td>\n",
       "    </tr>\n",
       "    <tr>\n",
       "      <th>6</th>\n",
       "      <td>B-3222</td>\n",
       "      <td>Closed</td>\n",
       "      <td>NaN</td>\n",
       "      <td>Resolved</td>\n",
       "      <td>1644833437722</td>\n",
       "      <td>NaN</td>\n",
       "    </tr>\n",
       "    <tr>\n",
       "      <th>7</th>\n",
       "      <td>B-59</td>\n",
       "      <td>Resolved</td>\n",
       "      <td>71.0</td>\n",
       "      <td>Open</td>\n",
       "      <td>1610616208000</td>\n",
       "      <td>1.610620e+12</td>\n",
       "    </tr>\n",
       "    <tr>\n",
       "      <th>8</th>\n",
       "      <td>C-40460</td>\n",
       "      <td>In Owl</td>\n",
       "      <td>8407.0</td>\n",
       "      <td>In Review</td>\n",
       "      <td>1669897022965</td>\n",
       "      <td>1.670401e+12</td>\n",
       "    </tr>\n",
       "    <tr>\n",
       "      <th>9</th>\n",
       "      <td>C-40460</td>\n",
       "      <td>Open</td>\n",
       "      <td>0.0</td>\n",
       "      <td>In Owl</td>\n",
       "      <td>1670401438890</td>\n",
       "      <td>1.670401e+12</td>\n",
       "    </tr>\n",
       "  </tbody>\n",
       "</table>\n",
       "</div>"
      ],
      "text/plain": [
       "  issue_key       status  minutes_in_status previous_status   status_begin  \\\n",
       "0   C-40460         Open              113.0            None  1669363867000   \n",
       "1   C-40460  In Progress             6289.0            Open  1669370640119   \n",
       "2   C-40460    In Review             2484.0     In Progress  1669747964986   \n",
       "3    B-7067       Closed                NaN            Test  1668583633246   \n",
       "4    B-6168  In Progress              187.0            Open  1655891591619   \n",
       "5    B-4801  In Progress                1.0            Open  1650636048496   \n",
       "6    B-3222       Closed                NaN        Resolved  1644833437722   \n",
       "7      B-59     Resolved               71.0            Open  1610616208000   \n",
       "8   C-40460       In Owl             8407.0       In Review  1669897022965   \n",
       "9   C-40460         Open                0.0          In Owl  1670401438890   \n",
       "\n",
       "     status_end  \n",
       "0  1.669371e+12  \n",
       "1  1.669748e+12  \n",
       "2  1.669897e+12  \n",
       "3           NaN  \n",
       "4  1.655903e+12  \n",
       "5  1.650636e+12  \n",
       "6           NaN  \n",
       "7  1.610620e+12  \n",
       "8  1.670401e+12  \n",
       "9  1.670401e+12  "
      ]
     },
     "execution_count": 174,
     "metadata": {},
     "output_type": "execute_result"
    }
   ],
   "source": [
    "query_test = '''\n",
    "SELECT *\n",
    "FROM history\n",
    "LIMIT 10\n",
    "'''\n",
    "test_df = pd.read_sql_query(query_test, con)\n",
    "test_df"
   ]
  },
  {
   "cell_type": "markdown",
   "metadata": {},
   "source": [
    "### Задача 1\n",
    "\n",
    "Напишите SQL запрос, который для всех задач, открытых на момент времени `T`, выведет:\n",
    "* ключ задачи\n",
    "* время создания задачи\n",
    "* статус на момент `T`\n",
    "\n",
    "Задача считается открытой на момент времени `T`, если к этому времени последний статус задачи был любой кроме `Closed` и `Resolved`.\n",
    "\n",
    "Оформите запрос таким образом, чтобы, изменив дату, его можно было использовать для поиска открытых задач в любой момент времени как в прошлом, так и в настоящем.\n",
    "\n",
    "Здесь и далее все даты и времена должны быть переведены в удобочитаемый вид."
   ]
  },
  {
   "cell_type": "markdown",
   "metadata": {},
   "source": [
    "Создадим функцию generating_df_query для создания датафрейма по запросу."
   ]
  },
  {
   "cell_type": "code",
   "execution_count": 175,
   "metadata": {},
   "outputs": [],
   "source": [
    "def generating_df_query(searching_date):\n",
    "        '''\n",
    "        Функция для генерирования датафрейма из базы данных issues.db (таблица history).\n",
    "        Функция принимает на вход момент времени T, до которого будет сформирован\n",
    "        датасет с полями:        \n",
    "                issue_key – уникальный ключ задачи;\n",
    "                start_of_task – время создания задачи;\n",
    "                status – последний статус задачи на момент времени T (кроме статусов 'Closed' и 'Resolved').\n",
    "        '''\n",
    "        con = sqlite3.connect('issues.db')\n",
    "        query = f'''\n",
    "                WITH cte AS\n",
    "                        (SELECT  issue_key, \n",
    "                                MAX(status_begin) AS status_begin,\n",
    "                                MIN(status_begin) AS start_of_task\n",
    "                        FROM\n",
    "                                (SELECT  issue_key, \n",
    "                                        datetime(status_begin/1000, 'unixepoch') AS status_begin,\n",
    "                                        status\n",
    "                                FROM history\n",
    "                                WHERE status_begin <= strftime('%s', '{searching_date}') * 1000\n",
    "                                        AND status NOT IN ('Closed', 'Resolved'))                  \n",
    "                        GROUP BY\n",
    "                        issue_key)\n",
    "                \n",
    "                SELECT  cte.issue_key,\n",
    "                        cte.start_of_task,\n",
    "                        t2.status\n",
    "                FROM cte JOIN (SELECT   status,  \n",
    "                                        datetime(status_begin/1000, 'unixepoch') AS status_begin\n",
    "                                FROM history) t2\n",
    "                                ON \n",
    "                                cte.status_begin = t2.status_begin\n",
    "                ORDER BY \n",
    "                        cte.issue_key\n",
    "                '''\n",
    "        dataframe = pd.read_sql_query(query, con)\n",
    "        return dataframe"
   ]
  },
  {
   "cell_type": "markdown",
   "metadata": {},
   "source": [
    "Проверим работу функции. Возьмем для теста задачу C-40460. Выведем все ее статусы и их время."
   ]
  },
  {
   "cell_type": "code",
   "execution_count": 176,
   "metadata": {},
   "outputs": [
    {
     "data": {
      "text/html": [
       "<div>\n",
       "<style scoped>\n",
       "    .dataframe tbody tr th:only-of-type {\n",
       "        vertical-align: middle;\n",
       "    }\n",
       "\n",
       "    .dataframe tbody tr th {\n",
       "        vertical-align: top;\n",
       "    }\n",
       "\n",
       "    .dataframe thead th {\n",
       "        text-align: right;\n",
       "    }\n",
       "</style>\n",
       "<table border=\"1\" class=\"dataframe\">\n",
       "  <thead>\n",
       "    <tr style=\"text-align: right;\">\n",
       "      <th></th>\n",
       "      <th>issue_key</th>\n",
       "      <th>status</th>\n",
       "      <th>status_begin</th>\n",
       "    </tr>\n",
       "  </thead>\n",
       "  <tbody>\n",
       "    <tr>\n",
       "      <th>0</th>\n",
       "      <td>C-40460</td>\n",
       "      <td>Open</td>\n",
       "      <td>2022-11-25 08:11:07</td>\n",
       "    </tr>\n",
       "    <tr>\n",
       "      <th>1</th>\n",
       "      <td>C-40460</td>\n",
       "      <td>In Progress</td>\n",
       "      <td>2022-11-25 10:04:00</td>\n",
       "    </tr>\n",
       "    <tr>\n",
       "      <th>2</th>\n",
       "      <td>C-40460</td>\n",
       "      <td>In Review</td>\n",
       "      <td>2022-11-29 18:52:44</td>\n",
       "    </tr>\n",
       "    <tr>\n",
       "      <th>3</th>\n",
       "      <td>C-40460</td>\n",
       "      <td>In Owl</td>\n",
       "      <td>2022-12-01 12:17:02</td>\n",
       "    </tr>\n",
       "    <tr>\n",
       "      <th>4</th>\n",
       "      <td>C-40460</td>\n",
       "      <td>Open</td>\n",
       "      <td>2022-12-07 08:23:58</td>\n",
       "    </tr>\n",
       "    <tr>\n",
       "      <th>5</th>\n",
       "      <td>C-40460</td>\n",
       "      <td>In Progress</td>\n",
       "      <td>2022-12-07 08:24:09</td>\n",
       "    </tr>\n",
       "    <tr>\n",
       "      <th>6</th>\n",
       "      <td>C-40460</td>\n",
       "      <td>In Testing</td>\n",
       "      <td>2022-12-07 08:25:13</td>\n",
       "    </tr>\n",
       "    <tr>\n",
       "      <th>7</th>\n",
       "      <td>C-40460</td>\n",
       "      <td>In Progress</td>\n",
       "      <td>2022-12-07 08:25:28</td>\n",
       "    </tr>\n",
       "    <tr>\n",
       "      <th>8</th>\n",
       "      <td>C-40460</td>\n",
       "      <td>In Testing</td>\n",
       "      <td>2022-12-07 08:25:32</td>\n",
       "    </tr>\n",
       "  </tbody>\n",
       "</table>\n",
       "</div>"
      ],
      "text/plain": [
       "  issue_key       status         status_begin\n",
       "0   C-40460         Open  2022-11-25 08:11:07\n",
       "1   C-40460  In Progress  2022-11-25 10:04:00\n",
       "2   C-40460    In Review  2022-11-29 18:52:44\n",
       "3   C-40460       In Owl  2022-12-01 12:17:02\n",
       "4   C-40460         Open  2022-12-07 08:23:58\n",
       "5   C-40460  In Progress  2022-12-07 08:24:09\n",
       "6   C-40460   In Testing  2022-12-07 08:25:13\n",
       "7   C-40460  In Progress  2022-12-07 08:25:28\n",
       "8   C-40460   In Testing  2022-12-07 08:25:32"
      ]
     },
     "execution_count": 176,
     "metadata": {},
     "output_type": "execute_result"
    }
   ],
   "source": [
    "test_q = '''\n",
    "SELECT  \n",
    "    issue_key,\n",
    "    status,\n",
    "    datetime(status_begin/1000, 'unixepoch') AS status_begin\n",
    "FROM \n",
    "    history\n",
    "WHERE \n",
    "    issue_key = 'C-40460'\n",
    "LIMIT \n",
    "    1000\n",
    "'''\n",
    "t_df = pd.read_sql_query(test_q, con)\n",
    "t_df"
   ]
  },
  {
   "cell_type": "markdown",
   "metadata": {},
   "source": [
    "Время создания задачи - \"2022-11-25 08:11:07\", последний статус - \"In Testing\". Проверим работу функции, указав время T = \"2022-12-08\"."
   ]
  },
  {
   "cell_type": "code",
   "execution_count": 177,
   "metadata": {},
   "outputs": [],
   "source": [
    "data = generating_df_query('2022-12-08')"
   ]
  },
  {
   "cell_type": "markdown",
   "metadata": {},
   "source": [
    "Проверим какие значения содержит сформированный датафрейм для задачи C-40460."
   ]
  },
  {
   "cell_type": "code",
   "execution_count": 178,
   "metadata": {},
   "outputs": [
    {
     "data": {
      "text/html": [
       "<div>\n",
       "<style scoped>\n",
       "    .dataframe tbody tr th:only-of-type {\n",
       "        vertical-align: middle;\n",
       "    }\n",
       "\n",
       "    .dataframe tbody tr th {\n",
       "        vertical-align: top;\n",
       "    }\n",
       "\n",
       "    .dataframe thead th {\n",
       "        text-align: right;\n",
       "    }\n",
       "</style>\n",
       "<table border=\"1\" class=\"dataframe\">\n",
       "  <thead>\n",
       "    <tr style=\"text-align: right;\">\n",
       "      <th></th>\n",
       "      <th>issue_key</th>\n",
       "      <th>start_of_task</th>\n",
       "      <th>status</th>\n",
       "    </tr>\n",
       "  </thead>\n",
       "  <tbody>\n",
       "    <tr>\n",
       "      <th>1295</th>\n",
       "      <td>C-40460</td>\n",
       "      <td>2022-11-25 08:11:07</td>\n",
       "      <td>In Testing</td>\n",
       "    </tr>\n",
       "  </tbody>\n",
       "</table>\n",
       "</div>"
      ],
      "text/plain": [
       "     issue_key        start_of_task      status\n",
       "1295   C-40460  2022-11-25 08:11:07  In Testing"
      ]
     },
     "execution_count": 178,
     "metadata": {},
     "output_type": "execute_result"
    }
   ],
   "source": [
    "data.query('issue_key == \"C-40460\"')"
   ]
  },
  {
   "cell_type": "markdown",
   "metadata": {},
   "source": [
    "Функция работает корректно."
   ]
  },
  {
   "cell_type": "markdown",
   "metadata": {},
   "source": [
    "## Pandas\n",
    "\n",
    "Файл `task_history.csv` содержит исторические данные системы сборки (e.g. *jenkins*, *teamcity*, etc.)\n",
    "\n",
    "Каждая запись в истории описывает отдельный запуск задачи `build_name` на рабочей машине `worker`.<br/>\n",
    "Для любого запуска известны автор `author` и проект `project`, в рамках которого был запущен расчет данной задачи."
   ]
  },
  {
   "cell_type": "markdown",
   "metadata": {},
   "source": [
    "===================================\\\n",
    "Подгрузим датасет, осмотрим тип столбцов."
   ]
  },
  {
   "cell_type": "code",
   "execution_count": 179,
   "metadata": {},
   "outputs": [
    {
     "data": {
      "text/html": [
       "<div>\n",
       "<style scoped>\n",
       "    .dataframe tbody tr th:only-of-type {\n",
       "        vertical-align: middle;\n",
       "    }\n",
       "\n",
       "    .dataframe tbody tr th {\n",
       "        vertical-align: top;\n",
       "    }\n",
       "\n",
       "    .dataframe thead th {\n",
       "        text-align: right;\n",
       "    }\n",
       "</style>\n",
       "<table border=\"1\" class=\"dataframe\">\n",
       "  <thead>\n",
       "    <tr style=\"text-align: right;\">\n",
       "      <th></th>\n",
       "      <th>task_id</th>\n",
       "      <th>start_time</th>\n",
       "      <th>finish_time</th>\n",
       "      <th>status</th>\n",
       "      <th>worker</th>\n",
       "      <th>build_name</th>\n",
       "      <th>author</th>\n",
       "      <th>project</th>\n",
       "    </tr>\n",
       "  </thead>\n",
       "  <tbody>\n",
       "    <tr>\n",
       "      <th>0</th>\n",
       "      <td>44973</td>\n",
       "      <td>2005-06-26 09:05:45.716</td>\n",
       "      <td>2005-06-26 09:05:45.997</td>\n",
       "      <td>success</td>\n",
       "      <td>worker_00</td>\n",
       "      <td>test_cyan_texture</td>\n",
       "      <td>Kenny Smith</td>\n",
       "      <td>Halo Anniversary</td>\n",
       "    </tr>\n",
       "    <tr>\n",
       "      <th>1</th>\n",
       "      <td>44974</td>\n",
       "      <td>2005-06-26 09:05:46.200</td>\n",
       "      <td>2005-06-26 09:05:46.497</td>\n",
       "      <td>success</td>\n",
       "      <td>worker_01</td>\n",
       "      <td>test_cyan_texture</td>\n",
       "      <td>Kenny Smith</td>\n",
       "      <td>Halo Anniversary</td>\n",
       "    </tr>\n",
       "    <tr>\n",
       "      <th>2</th>\n",
       "      <td>44975</td>\n",
       "      <td>2005-06-26 09:05:47.357</td>\n",
       "      <td>2005-06-26 09:06:01.213</td>\n",
       "      <td>success</td>\n",
       "      <td>worker_02</td>\n",
       "      <td>test_cyan_texture</td>\n",
       "      <td>Kenny Smith</td>\n",
       "      <td>Halo Anniversary</td>\n",
       "    </tr>\n",
       "    <tr>\n",
       "      <th>3</th>\n",
       "      <td>44977</td>\n",
       "      <td>2005-06-26 09:06:19.273</td>\n",
       "      <td>2005-06-26 09:10:44.734</td>\n",
       "      <td>success</td>\n",
       "      <td>worker_02</td>\n",
       "      <td>test_cyan_texture</td>\n",
       "      <td>Kenny Smith</td>\n",
       "      <td>Halo Anniversary</td>\n",
       "    </tr>\n",
       "    <tr>\n",
       "      <th>4</th>\n",
       "      <td>44979</td>\n",
       "      <td>2005-06-26 09:12:00.883</td>\n",
       "      <td>2005-06-26 09:14:29.941</td>\n",
       "      <td>success</td>\n",
       "      <td>worker_04</td>\n",
       "      <td>test_cyan_texture</td>\n",
       "      <td>Kenny Smith</td>\n",
       "      <td>Halo Anniversary</td>\n",
       "    </tr>\n",
       "  </tbody>\n",
       "</table>\n",
       "</div>"
      ],
      "text/plain": [
       "   task_id               start_time              finish_time   status  \\\n",
       "0    44973  2005-06-26 09:05:45.716  2005-06-26 09:05:45.997  success   \n",
       "1    44974  2005-06-26 09:05:46.200  2005-06-26 09:05:46.497  success   \n",
       "2    44975  2005-06-26 09:05:47.357  2005-06-26 09:06:01.213  success   \n",
       "3    44977  2005-06-26 09:06:19.273  2005-06-26 09:10:44.734  success   \n",
       "4    44979  2005-06-26 09:12:00.883  2005-06-26 09:14:29.941  success   \n",
       "\n",
       "      worker         build_name       author           project  \n",
       "0  worker_00  test_cyan_texture  Kenny Smith  Halo Anniversary  \n",
       "1  worker_01  test_cyan_texture  Kenny Smith  Halo Anniversary  \n",
       "2  worker_02  test_cyan_texture  Kenny Smith  Halo Anniversary  \n",
       "3  worker_02  test_cyan_texture  Kenny Smith  Halo Anniversary  \n",
       "4  worker_04  test_cyan_texture  Kenny Smith  Halo Anniversary  "
      ]
     },
     "execution_count": 179,
     "metadata": {},
     "output_type": "execute_result"
    }
   ],
   "source": [
    "df = pd.read_csv('task_history.csv')\n",
    "df.head()"
   ]
  },
  {
   "cell_type": "code",
   "execution_count": 180,
   "metadata": {},
   "outputs": [
    {
     "name": "stdout",
     "output_type": "stream",
     "text": [
      "<class 'pandas.core.frame.DataFrame'>\n",
      "RangeIndex: 160492 entries, 0 to 160491\n",
      "Data columns (total 8 columns):\n",
      " #   Column       Non-Null Count   Dtype \n",
      "---  ------       --------------   ----- \n",
      " 0   task_id      160492 non-null  int64 \n",
      " 1   start_time   160492 non-null  object\n",
      " 2   finish_time  160492 non-null  object\n",
      " 3   status       160492 non-null  object\n",
      " 4   worker       160492 non-null  object\n",
      " 5   build_name   160492 non-null  object\n",
      " 6   author       160492 non-null  object\n",
      " 7   project      160492 non-null  object\n",
      "dtypes: int64(1), object(7)\n",
      "memory usage: 9.8+ MB\n"
     ]
    }
   ],
   "source": [
    "df.info()"
   ]
  },
  {
   "cell_type": "markdown",
   "metadata": {},
   "source": [
    "Приведем столбцы start_time и finish_time к формату datetime."
   ]
  },
  {
   "cell_type": "code",
   "execution_count": 181,
   "metadata": {},
   "outputs": [
    {
     "data": {
      "text/plain": [
       "task_id                 int64\n",
       "start_time     datetime64[ns]\n",
       "finish_time    datetime64[ns]\n",
       "status                 object\n",
       "worker                 object\n",
       "build_name             object\n",
       "author                 object\n",
       "project                object\n",
       "dtype: object"
      ]
     },
     "execution_count": 181,
     "metadata": {},
     "output_type": "execute_result"
    }
   ],
   "source": [
    "df[['start_time', 'finish_time']] = df[['start_time', 'finish_time']].apply(pd.to_datetime)\n",
    "df.dtypes"
   ]
  },
  {
   "cell_type": "markdown",
   "metadata": {},
   "source": [
    "### Задача 2\n",
    "\n",
    "Для каждой недели распечатайте топ-3 пользователей, потребивших наибольшее количество машиночасов.\n",
    "\n",
    "Выведите для данных пользователей процент потребленных ресурсов от общего объема расчетов за эту неделю."
   ]
  },
  {
   "cell_type": "markdown",
   "metadata": {},
   "source": [
    "Получим номера недель."
   ]
  },
  {
   "cell_type": "code",
   "execution_count": 182,
   "metadata": {},
   "outputs": [],
   "source": [
    "df['week_num'] = df['start_time'].dt.isocalendar().week"
   ]
  },
  {
   "cell_type": "markdown",
   "metadata": {},
   "source": [
    "Создадим столбец 'time_spent' с затраченным временем."
   ]
  },
  {
   "cell_type": "code",
   "execution_count": 183,
   "metadata": {},
   "outputs": [],
   "source": [
    "df['time_spent'] = df['finish_time'] - df['start_time']"
   ]
  },
  {
   "cell_type": "code",
   "execution_count": 184,
   "metadata": {},
   "outputs": [
    {
     "data": {
      "text/html": [
       "<div>\n",
       "<style scoped>\n",
       "    .dataframe tbody tr th:only-of-type {\n",
       "        vertical-align: middle;\n",
       "    }\n",
       "\n",
       "    .dataframe tbody tr th {\n",
       "        vertical-align: top;\n",
       "    }\n",
       "\n",
       "    .dataframe thead th {\n",
       "        text-align: right;\n",
       "    }\n",
       "</style>\n",
       "<table border=\"1\" class=\"dataframe\">\n",
       "  <thead>\n",
       "    <tr style=\"text-align: right;\">\n",
       "      <th></th>\n",
       "      <th>task_id</th>\n",
       "      <th>start_time</th>\n",
       "      <th>finish_time</th>\n",
       "      <th>status</th>\n",
       "      <th>worker</th>\n",
       "      <th>build_name</th>\n",
       "      <th>author</th>\n",
       "      <th>project</th>\n",
       "      <th>week_num</th>\n",
       "      <th>time_spent</th>\n",
       "    </tr>\n",
       "  </thead>\n",
       "  <tbody>\n",
       "    <tr>\n",
       "      <th>0</th>\n",
       "      <td>44973</td>\n",
       "      <td>2005-06-26 09:05:45.716</td>\n",
       "      <td>2005-06-26 09:05:45.997</td>\n",
       "      <td>success</td>\n",
       "      <td>worker_00</td>\n",
       "      <td>test_cyan_texture</td>\n",
       "      <td>Kenny Smith</td>\n",
       "      <td>Halo Anniversary</td>\n",
       "      <td>25</td>\n",
       "      <td>0 days 00:00:00.281000</td>\n",
       "    </tr>\n",
       "    <tr>\n",
       "      <th>1</th>\n",
       "      <td>44974</td>\n",
       "      <td>2005-06-26 09:05:46.200</td>\n",
       "      <td>2005-06-26 09:05:46.497</td>\n",
       "      <td>success</td>\n",
       "      <td>worker_01</td>\n",
       "      <td>test_cyan_texture</td>\n",
       "      <td>Kenny Smith</td>\n",
       "      <td>Halo Anniversary</td>\n",
       "      <td>25</td>\n",
       "      <td>0 days 00:00:00.297000</td>\n",
       "    </tr>\n",
       "    <tr>\n",
       "      <th>2</th>\n",
       "      <td>44975</td>\n",
       "      <td>2005-06-26 09:05:47.357</td>\n",
       "      <td>2005-06-26 09:06:01.213</td>\n",
       "      <td>success</td>\n",
       "      <td>worker_02</td>\n",
       "      <td>test_cyan_texture</td>\n",
       "      <td>Kenny Smith</td>\n",
       "      <td>Halo Anniversary</td>\n",
       "      <td>25</td>\n",
       "      <td>0 days 00:00:13.856000</td>\n",
       "    </tr>\n",
       "    <tr>\n",
       "      <th>3</th>\n",
       "      <td>44977</td>\n",
       "      <td>2005-06-26 09:06:19.273</td>\n",
       "      <td>2005-06-26 09:10:44.734</td>\n",
       "      <td>success</td>\n",
       "      <td>worker_02</td>\n",
       "      <td>test_cyan_texture</td>\n",
       "      <td>Kenny Smith</td>\n",
       "      <td>Halo Anniversary</td>\n",
       "      <td>25</td>\n",
       "      <td>0 days 00:04:25.461000</td>\n",
       "    </tr>\n",
       "    <tr>\n",
       "      <th>4</th>\n",
       "      <td>44979</td>\n",
       "      <td>2005-06-26 09:12:00.883</td>\n",
       "      <td>2005-06-26 09:14:29.941</td>\n",
       "      <td>success</td>\n",
       "      <td>worker_04</td>\n",
       "      <td>test_cyan_texture</td>\n",
       "      <td>Kenny Smith</td>\n",
       "      <td>Halo Anniversary</td>\n",
       "      <td>25</td>\n",
       "      <td>0 days 00:02:29.058000</td>\n",
       "    </tr>\n",
       "  </tbody>\n",
       "</table>\n",
       "</div>"
      ],
      "text/plain": [
       "   task_id              start_time             finish_time   status  \\\n",
       "0    44973 2005-06-26 09:05:45.716 2005-06-26 09:05:45.997  success   \n",
       "1    44974 2005-06-26 09:05:46.200 2005-06-26 09:05:46.497  success   \n",
       "2    44975 2005-06-26 09:05:47.357 2005-06-26 09:06:01.213  success   \n",
       "3    44977 2005-06-26 09:06:19.273 2005-06-26 09:10:44.734  success   \n",
       "4    44979 2005-06-26 09:12:00.883 2005-06-26 09:14:29.941  success   \n",
       "\n",
       "      worker         build_name       author           project  week_num  \\\n",
       "0  worker_00  test_cyan_texture  Kenny Smith  Halo Anniversary        25   \n",
       "1  worker_01  test_cyan_texture  Kenny Smith  Halo Anniversary        25   \n",
       "2  worker_02  test_cyan_texture  Kenny Smith  Halo Anniversary        25   \n",
       "3  worker_02  test_cyan_texture  Kenny Smith  Halo Anniversary        25   \n",
       "4  worker_04  test_cyan_texture  Kenny Smith  Halo Anniversary        25   \n",
       "\n",
       "              time_spent  \n",
       "0 0 days 00:00:00.281000  \n",
       "1 0 days 00:00:00.297000  \n",
       "2 0 days 00:00:13.856000  \n",
       "3 0 days 00:04:25.461000  \n",
       "4 0 days 00:02:29.058000  "
      ]
     },
     "execution_count": 184,
     "metadata": {},
     "output_type": "execute_result"
    }
   ],
   "source": [
    "df.head()"
   ]
  },
  {
   "cell_type": "markdown",
   "metadata": {},
   "source": [
    "Создадим промежуточную таблицу, сгруппировав по столбцу с номером недели и юзеру, и выведем сумму затраченного времени для каждого юзера и каждой группы. "
   ]
  },
  {
   "cell_type": "code",
   "execution_count": 185,
   "metadata": {},
   "outputs": [
    {
     "data": {
      "text/html": [
       "<div>\n",
       "<style scoped>\n",
       "    .dataframe tbody tr th:only-of-type {\n",
       "        vertical-align: middle;\n",
       "    }\n",
       "\n",
       "    .dataframe tbody tr th {\n",
       "        vertical-align: top;\n",
       "    }\n",
       "\n",
       "    .dataframe thead th {\n",
       "        text-align: right;\n",
       "    }\n",
       "</style>\n",
       "<table border=\"1\" class=\"dataframe\">\n",
       "  <thead>\n",
       "    <tr style=\"text-align: right;\">\n",
       "      <th></th>\n",
       "      <th>week_num</th>\n",
       "      <th>worker</th>\n",
       "      <th>time_spent</th>\n",
       "    </tr>\n",
       "  </thead>\n",
       "  <tbody>\n",
       "    <tr>\n",
       "      <th>79</th>\n",
       "      <td>25</td>\n",
       "      <td>worker_51</td>\n",
       "      <td>5 days 16:24:59.864000</td>\n",
       "    </tr>\n",
       "    <tr>\n",
       "      <th>27</th>\n",
       "      <td>25</td>\n",
       "      <td>worker_1d</td>\n",
       "      <td>5 days 16:16:38.058000</td>\n",
       "    </tr>\n",
       "    <tr>\n",
       "      <th>68</th>\n",
       "      <td>25</td>\n",
       "      <td>worker_46</td>\n",
       "      <td>5 days 15:12:28.708000</td>\n",
       "    </tr>\n",
       "    <tr>\n",
       "      <th>37</th>\n",
       "      <td>25</td>\n",
       "      <td>worker_27</td>\n",
       "      <td>5 days 13:29:10.149000</td>\n",
       "    </tr>\n",
       "    <tr>\n",
       "      <th>11</th>\n",
       "      <td>25</td>\n",
       "      <td>worker_0d</td>\n",
       "      <td>5 days 12:42:20.301000</td>\n",
       "    </tr>\n",
       "    <tr>\n",
       "      <th>...</th>\n",
       "      <td>...</td>\n",
       "      <td>...</td>\n",
       "      <td>...</td>\n",
       "    </tr>\n",
       "    <tr>\n",
       "      <th>395</th>\n",
       "      <td>28</td>\n",
       "      <td>worker_2b</td>\n",
       "      <td>0 days 01:14:56.558000</td>\n",
       "    </tr>\n",
       "    <tr>\n",
       "      <th>444</th>\n",
       "      <td>28</td>\n",
       "      <td>worker_5c</td>\n",
       "      <td>0 days 01:14:24.182000</td>\n",
       "    </tr>\n",
       "    <tr>\n",
       "      <th>355</th>\n",
       "      <td>28</td>\n",
       "      <td>worker_01</td>\n",
       "      <td>0 days 01:08:07.811000</td>\n",
       "    </tr>\n",
       "    <tr>\n",
       "      <th>462</th>\n",
       "      <td>28</td>\n",
       "      <td>worker_6e</td>\n",
       "      <td>0 days 00:40:52.684000</td>\n",
       "    </tr>\n",
       "    <tr>\n",
       "      <th>443</th>\n",
       "      <td>28</td>\n",
       "      <td>worker_5b</td>\n",
       "      <td>0 days 00:34:57.573000</td>\n",
       "    </tr>\n",
       "  </tbody>\n",
       "</table>\n",
       "<p>491 rows × 3 columns</p>\n",
       "</div>"
      ],
      "text/plain": [
       "     week_num     worker             time_spent\n",
       "79         25  worker_51 5 days 16:24:59.864000\n",
       "27         25  worker_1d 5 days 16:16:38.058000\n",
       "68         25  worker_46 5 days 15:12:28.708000\n",
       "37         25  worker_27 5 days 13:29:10.149000\n",
       "11         25  worker_0d 5 days 12:42:20.301000\n",
       "..        ...        ...                    ...\n",
       "395        28  worker_2b 0 days 01:14:56.558000\n",
       "444        28  worker_5c 0 days 01:14:24.182000\n",
       "355        28  worker_01 0 days 01:08:07.811000\n",
       "462        28  worker_6e 0 days 00:40:52.684000\n",
       "443        28  worker_5b 0 days 00:34:57.573000\n",
       "\n",
       "[491 rows x 3 columns]"
      ]
     },
     "execution_count": 185,
     "metadata": {},
     "output_type": "execute_result"
    }
   ],
   "source": [
    "top_of_week = df.groupby(by=['week_num', 'worker'], as_index=False).agg({'time_spent':'sum'})\\\n",
    "    .sort_values(by=['week_num','time_spent'], ascending=[True, False])\n",
    "top_of_week"
   ]
  },
  {
   "cell_type": "markdown",
   "metadata": {},
   "source": [
    "Проведем еще одну группировку (по номеру недели) и выведем первые 3 строки из каждой группы (заранее отсортированные по убыванию затраченного времени)."
   ]
  },
  {
   "cell_type": "code",
   "execution_count": 186,
   "metadata": {},
   "outputs": [
    {
     "data": {
      "text/html": [
       "<div>\n",
       "<style scoped>\n",
       "    .dataframe tbody tr th:only-of-type {\n",
       "        vertical-align: middle;\n",
       "    }\n",
       "\n",
       "    .dataframe tbody tr th {\n",
       "        vertical-align: top;\n",
       "    }\n",
       "\n",
       "    .dataframe thead th {\n",
       "        text-align: right;\n",
       "    }\n",
       "</style>\n",
       "<table border=\"1\" class=\"dataframe\">\n",
       "  <thead>\n",
       "    <tr style=\"text-align: right;\">\n",
       "      <th></th>\n",
       "      <th>week_num</th>\n",
       "      <th>worker</th>\n",
       "      <th>time_spent</th>\n",
       "    </tr>\n",
       "  </thead>\n",
       "  <tbody>\n",
       "    <tr>\n",
       "      <th>79</th>\n",
       "      <td>25</td>\n",
       "      <td>worker_51</td>\n",
       "      <td>5 days 16:24:59.864000</td>\n",
       "    </tr>\n",
       "    <tr>\n",
       "      <th>27</th>\n",
       "      <td>25</td>\n",
       "      <td>worker_1d</td>\n",
       "      <td>5 days 16:16:38.058000</td>\n",
       "    </tr>\n",
       "    <tr>\n",
       "      <th>68</th>\n",
       "      <td>25</td>\n",
       "      <td>worker_46</td>\n",
       "      <td>5 days 15:12:28.708000</td>\n",
       "    </tr>\n",
       "    <tr>\n",
       "      <th>106</th>\n",
       "      <td>26</td>\n",
       "      <td>worker_04</td>\n",
       "      <td>6 days 08:59:37.467000</td>\n",
       "    </tr>\n",
       "    <tr>\n",
       "      <th>157</th>\n",
       "      <td>26</td>\n",
       "      <td>worker_37</td>\n",
       "      <td>6 days 07:57:59.532000</td>\n",
       "    </tr>\n",
       "    <tr>\n",
       "      <th>131</th>\n",
       "      <td>26</td>\n",
       "      <td>worker_1d</td>\n",
       "      <td>6 days 07:43:15.212000</td>\n",
       "    </tr>\n",
       "    <tr>\n",
       "      <th>322</th>\n",
       "      <td>27</td>\n",
       "      <td>worker_6c</td>\n",
       "      <td>5 days 03:43:29.408000</td>\n",
       "    </tr>\n",
       "    <tr>\n",
       "      <th>295</th>\n",
       "      <td>27</td>\n",
       "      <td>worker_51</td>\n",
       "      <td>5 days 01:31:01.382000</td>\n",
       "    </tr>\n",
       "    <tr>\n",
       "      <th>228</th>\n",
       "      <td>27</td>\n",
       "      <td>worker_0d</td>\n",
       "      <td>5 days 00:48:48.464000</td>\n",
       "    </tr>\n",
       "    <tr>\n",
       "      <th>366</th>\n",
       "      <td>28</td>\n",
       "      <td>worker_0d</td>\n",
       "      <td>4 days 15:32:27.918000</td>\n",
       "    </tr>\n",
       "    <tr>\n",
       "      <th>403</th>\n",
       "      <td>28</td>\n",
       "      <td>worker_33</td>\n",
       "      <td>4 days 09:24:46.247000</td>\n",
       "    </tr>\n",
       "    <tr>\n",
       "      <th>411</th>\n",
       "      <td>28</td>\n",
       "      <td>worker_3b</td>\n",
       "      <td>4 days 09:16:17.725000</td>\n",
       "    </tr>\n",
       "  </tbody>\n",
       "</table>\n",
       "</div>"
      ],
      "text/plain": [
       "     week_num     worker             time_spent\n",
       "79         25  worker_51 5 days 16:24:59.864000\n",
       "27         25  worker_1d 5 days 16:16:38.058000\n",
       "68         25  worker_46 5 days 15:12:28.708000\n",
       "106        26  worker_04 6 days 08:59:37.467000\n",
       "157        26  worker_37 6 days 07:57:59.532000\n",
       "131        26  worker_1d 6 days 07:43:15.212000\n",
       "322        27  worker_6c 5 days 03:43:29.408000\n",
       "295        27  worker_51 5 days 01:31:01.382000\n",
       "228        27  worker_0d 5 days 00:48:48.464000\n",
       "366        28  worker_0d 4 days 15:32:27.918000\n",
       "403        28  worker_33 4 days 09:24:46.247000\n",
       "411        28  worker_3b 4 days 09:16:17.725000"
      ]
     },
     "execution_count": 186,
     "metadata": {},
     "output_type": "execute_result"
    }
   ],
   "source": [
    "top_of_week.groupby(by='week_num').head(3)"
   ]
  },
  {
   "cell_type": "markdown",
   "metadata": {},
   "source": [
    "### Задача 3\n",
    "\n",
    "Отобразите график с ежедневным потреблением машинного времени каждым проектом.\n",
    "\n",
    "Для визуализации можно использовать следующие библиотеки: `matplotlib`, `seaborn` или `altair`."
   ]
  },
  {
   "cell_type": "code",
   "execution_count": 187,
   "metadata": {},
   "outputs": [],
   "source": [
    "df['date'] = df['finish_time'].dt.date"
   ]
  },
  {
   "cell_type": "markdown",
   "metadata": {},
   "source": [
    "Преобразуем столбец 'time_spent' в количество затраченных секунд."
   ]
  },
  {
   "cell_type": "code",
   "execution_count": 188,
   "metadata": {},
   "outputs": [],
   "source": [
    "df['time_spent'] = df['time_spent'].dt.total_seconds()"
   ]
  },
  {
   "cell_type": "code",
   "execution_count": 189,
   "metadata": {},
   "outputs": [],
   "source": [
    "df['time_spent'] = df['time_spent'] / 3600"
   ]
  },
  {
   "cell_type": "code",
   "execution_count": 190,
   "metadata": {},
   "outputs": [
    {
     "data": {
      "text/html": [
       "<div>\n",
       "<style scoped>\n",
       "    .dataframe tbody tr th:only-of-type {\n",
       "        vertical-align: middle;\n",
       "    }\n",
       "\n",
       "    .dataframe tbody tr th {\n",
       "        vertical-align: top;\n",
       "    }\n",
       "\n",
       "    .dataframe thead th {\n",
       "        text-align: right;\n",
       "    }\n",
       "</style>\n",
       "<table border=\"1\" class=\"dataframe\">\n",
       "  <thead>\n",
       "    <tr style=\"text-align: right;\">\n",
       "      <th></th>\n",
       "      <th>project</th>\n",
       "      <th>date</th>\n",
       "      <th>time_spent</th>\n",
       "    </tr>\n",
       "  </thead>\n",
       "  <tbody>\n",
       "    <tr>\n",
       "      <th>0</th>\n",
       "      <td>Halo Anniversary</td>\n",
       "      <td>2005-06-20</td>\n",
       "      <td>27.240106</td>\n",
       "    </tr>\n",
       "    <tr>\n",
       "      <th>1</th>\n",
       "      <td>Halo Anniversary</td>\n",
       "      <td>2005-06-21</td>\n",
       "      <td>28.989350</td>\n",
       "    </tr>\n",
       "    <tr>\n",
       "      <th>2</th>\n",
       "      <td>Halo Anniversary</td>\n",
       "      <td>2005-06-22</td>\n",
       "      <td>22.093017</td>\n",
       "    </tr>\n",
       "    <tr>\n",
       "      <th>3</th>\n",
       "      <td>Halo Anniversary</td>\n",
       "      <td>2005-06-23</td>\n",
       "      <td>17.385260</td>\n",
       "    </tr>\n",
       "    <tr>\n",
       "      <th>4</th>\n",
       "      <td>Halo Anniversary</td>\n",
       "      <td>2005-06-24</td>\n",
       "      <td>8.552613</td>\n",
       "    </tr>\n",
       "    <tr>\n",
       "      <th>...</th>\n",
       "      <td>...</td>\n",
       "      <td>...</td>\n",
       "      <td>...</td>\n",
       "    </tr>\n",
       "    <tr>\n",
       "      <th>140</th>\n",
       "      <td>World War Z</td>\n",
       "      <td>2005-07-14</td>\n",
       "      <td>217.035889</td>\n",
       "    </tr>\n",
       "    <tr>\n",
       "      <th>141</th>\n",
       "      <td>World War Z</td>\n",
       "      <td>2005-07-15</td>\n",
       "      <td>137.772392</td>\n",
       "    </tr>\n",
       "    <tr>\n",
       "      <th>142</th>\n",
       "      <td>World War Z</td>\n",
       "      <td>2005-07-16</td>\n",
       "      <td>118.432318</td>\n",
       "    </tr>\n",
       "    <tr>\n",
       "      <th>143</th>\n",
       "      <td>World War Z</td>\n",
       "      <td>2005-07-17</td>\n",
       "      <td>213.105891</td>\n",
       "    </tr>\n",
       "    <tr>\n",
       "      <th>144</th>\n",
       "      <td>World War Z</td>\n",
       "      <td>2005-07-18</td>\n",
       "      <td>7.933650</td>\n",
       "    </tr>\n",
       "  </tbody>\n",
       "</table>\n",
       "<p>145 rows × 3 columns</p>\n",
       "</div>"
      ],
      "text/plain": [
       "              project        date  time_spent\n",
       "0    Halo Anniversary  2005-06-20   27.240106\n",
       "1    Halo Anniversary  2005-06-21   28.989350\n",
       "2    Halo Anniversary  2005-06-22   22.093017\n",
       "3    Halo Anniversary  2005-06-23   17.385260\n",
       "4    Halo Anniversary  2005-06-24    8.552613\n",
       "..                ...         ...         ...\n",
       "140       World War Z  2005-07-14  217.035889\n",
       "141       World War Z  2005-07-15  137.772392\n",
       "142       World War Z  2005-07-16  118.432318\n",
       "143       World War Z  2005-07-17  213.105891\n",
       "144       World War Z  2005-07-18    7.933650\n",
       "\n",
       "[145 rows x 3 columns]"
      ]
     },
     "execution_count": 190,
     "metadata": {},
     "output_type": "execute_result"
    }
   ],
   "source": [
    "machine_time = df.groupby(by=['project', 'date'], as_index=False).agg({'time_spent':'sum'})\n",
    "machine_time"
   ]
  },
  {
   "cell_type": "markdown",
   "metadata": {},
   "source": [
    "Выведем график. (Перебрав несколь вариантов графиков, оптимальным показался групповой barplot)."
   ]
  },
  {
   "cell_type": "code",
   "execution_count": 207,
   "metadata": {},
   "outputs": [
    {
     "data": {
      "image/png": "[encoded data removed]",
      "text/plain": [
       "<Figure size 2500x600 with 1 Axes>"
      ]
     },
     "metadata": {},
     "output_type": "display_data"
    }
   ],
   "source": [
    "plt.figure(figsize=(25, 6))\n",
    "plot = sns.barplot(data=machine_time, \n",
    "                   x='date', \n",
    "                   y='time_spent', \n",
    "                   hue='project', \n",
    "                   errorbar=None)\n",
    "plot.set(title='Machine time costs by date and projects')\n",
    "plot.set(xlabel='date', ylabel='total machine time (hours)')\n",
    "plot.tick_params(axis='x', rotation=45)"
   ]
  },
  {
   "cell_type": "markdown",
   "metadata": {},
   "source": [
    "### Задача 4\n",
    "\n",
    "Рассмотрим *еженедельное* общее потребление ресурсов. На второй неделе можно заметить всплеск нагрузки с ее последующим планомерным снижением.\n",
    "\n",
    "Проанализируйте предоставленные данные и найдите, с чем связано подобное поведение."
   ]
  },
  {
   "cell_type": "code",
   "execution_count": 208,
   "metadata": {},
   "outputs": [
    {
     "data": {
      "text/html": [
       "<div>\n",
       "<style scoped>\n",
       "    .dataframe tbody tr th:only-of-type {\n",
       "        vertical-align: middle;\n",
       "    }\n",
       "\n",
       "    .dataframe tbody tr th {\n",
       "        vertical-align: top;\n",
       "    }\n",
       "\n",
       "    .dataframe thead th {\n",
       "        text-align: right;\n",
       "    }\n",
       "</style>\n",
       "<table border=\"1\" class=\"dataframe\">\n",
       "  <thead>\n",
       "    <tr style=\"text-align: right;\">\n",
       "      <th></th>\n",
       "      <th>week_num</th>\n",
       "      <th>time_spent</th>\n",
       "    </tr>\n",
       "  </thead>\n",
       "  <tbody>\n",
       "    <tr>\n",
       "      <th>0</th>\n",
       "      <td>25</td>\n",
       "      <td>9074.092504</td>\n",
       "    </tr>\n",
       "    <tr>\n",
       "      <th>1</th>\n",
       "      <td>26</td>\n",
       "      <td>12412.453679</td>\n",
       "    </tr>\n",
       "    <tr>\n",
       "      <th>2</th>\n",
       "      <td>27</td>\n",
       "      <td>10498.085683</td>\n",
       "    </tr>\n",
       "    <tr>\n",
       "      <th>3</th>\n",
       "      <td>28</td>\n",
       "      <td>9073.227367</td>\n",
       "    </tr>\n",
       "  </tbody>\n",
       "</table>\n",
       "</div>"
      ],
      "text/plain": [
       "   week_num    time_spent\n",
       "0        25   9074.092504\n",
       "1        26  12412.453679\n",
       "2        27  10498.085683\n",
       "3        28   9073.227367"
      ]
     },
     "execution_count": 208,
     "metadata": {},
     "output_type": "execute_result"
    }
   ],
   "source": [
    "week_load = df.groupby(by='week_num', as_index=False).agg({'time_spent':'sum'})\n",
    "week_load"
   ]
  },
  {
   "cell_type": "code",
   "execution_count": 211,
   "metadata": {},
   "outputs": [
    {
     "data": {
      "text/plain": [
       "[Text(0.5, 0, 'week number'), Text(0, 0.5, 'total machine time (hours)')]"
      ]
     },
     "execution_count": 211,
     "metadata": {},
     "output_type": "execute_result"
    },
    {
     "data": {
      "image/png": "[encoded data removed]",
      "text/plain": [
       "<Figure size 640x480 with 1 Axes>"
      ]
     },
     "metadata": {},
     "output_type": "display_data"
    }
   ],
   "source": [
    "wl = sns.barplot(data=week_load, \n",
    "                   x='week_num', \n",
    "                   y='time_spent',\n",
    "                   errorbar=None)\n",
    "wl.set(title='Total machine time costs by weeks')\n",
    "wl.set(xlabel='week number', ylabel='total machine time (hours)')"
   ]
  }
 ],
 "metadata": {
  "kernelspec": {
   "display_name": "jupyter_notebooks",
   "language": "python",
   "name": "python3"
  },
  "language_info": {
   "codemirror_mode": {
    "name": "ipython",
    "version": 3
   },
   "file_extension": ".py",
   "mimetype": "text/x-python",
   "name": "python",
   "nbconvert_exporter": "python",
   "pygments_lexer": "ipython3",
   "version": "3.11.4"
  }
 },
 "nbformat": 4,
 "nbformat_minor": 2
}
